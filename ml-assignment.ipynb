{
 "cells": [
  {
   "cell_type": "code",
   "execution_count": 1,
   "metadata": {},
   "outputs": [
    {
     "name": "stdout",
     "output_type": "stream",
     "text": [
      "[nltk_data] Downloading package wordnet to\n",
      "[nltk_data]     C:\\Users\\nicolwon\\AppData\\Roaming\\nltk_data...\n",
      "[nltk_data]   Package wordnet is already up-to-date!\n",
      "[nltk_data] Downloading package stopwords to\n",
      "[nltk_data]     C:\\Users\\nicolwon\\AppData\\Roaming\\nltk_data...\n",
      "[nltk_data]   Package stopwords is already up-to-date!\n"
     ]
    },
    {
     "data": {
      "text/plain": [
       "True"
      ]
     },
     "execution_count": 1,
     "metadata": {},
     "output_type": "execute_result"
    }
   ],
   "source": [
    "import os\n",
    "import re\n",
    "from pathlib import Path\n",
    "from nltk.tokenize import RegexpTokenizer\n",
    "from collections import Counter\n",
    "import pandas as pd\n",
    "from sklearn.linear_model import LogisticRegression\n",
    "from sklearn.naive_bayes import GaussianNB, BernoulliNB, MultinomialNB\n",
    "from sklearn.model_selection import train_test_split\n",
    "from sklearn.metrics import accuracy_score, confusion_matrix\n",
    "from sklearn.exceptions import ConvergenceWarning\n",
    "import numpy as np\n",
    "from scipy import stats\n",
    "import matplotlib\n",
    "import matplotlib.pyplot as plt\n",
    "%matplotlib inline  \n",
    "import random\n",
    "random.seed()\n",
    "import warnings\n",
    "warnings.filterwarnings(\"ignore\", category=FutureWarning)\n",
    "warnings.filterwarnings(\"ignore\", category=ConvergenceWarning)\n",
    "\n",
    "import nltk\n",
    "from nltk.stem import *\n",
    "from nltk.corpus import stopwords\n",
    "import math\n",
    "# download required resources\n",
    "nltk.download(\"wordnet\")\n",
    "nltk.download(\"stopwords\")"
   ]
  },
  {
   "cell_type": "code",
   "execution_count": 2,
   "metadata": {},
   "outputs": [],
   "source": [
    "DATA_DIR = \"20_newsgroups\""
   ]
  },
  {
   "cell_type": "markdown",
   "metadata": {},
   "source": [
    "## Functions from lab"
   ]
  },
  {
   "cell_type": "code",
   "execution_count": 3,
   "metadata": {},
   "outputs": [],
   "source": [
    "def clean_file_text(text):\n",
    "    new_text = re.sub(\"Newsgroups:.*?\\n\", \"\", text)\n",
    "    new_text = re.sub(\"Xref:.*?\\n\", \"\", new_text)\n",
    "    new_text = re.sub(\"Path:.*?\\n\", \"\", new_text)\n",
    "    new_text = re.sub(\"Date:.*?\\n\", \"\", new_text)\n",
    "    new_text = re.sub(\"Followup-To:.*?\\n\", \"\", new_text)\n",
    "    return new_text"
   ]
  },
  {
   "cell_type": "code",
   "execution_count": 4,
   "metadata": {},
   "outputs": [],
   "source": [
    "def corpus_count_words(file_list):\n",
    "    tokenizer = RegexpTokenizer(r'\\w+')\n",
    "    word_counter = Counter()\n",
    "    for file_path in file_list:\n",
    "        with open(file_path, 'r', encoding='utf-8', errors='ignore') as file:\n",
    "            file_data = file.read()\n",
    "            file_data = clean_file_text(file_data)\n",
    "            file_words = tokenizer.tokenize(file_data)\n",
    "            word_counter.update(file_words)\n",
    "    return word_counter"
   ]
  },
  {
   "cell_type": "code",
   "execution_count": 6,
   "metadata": {},
   "outputs": [],
   "source": [
    "def get_topic_name(file_path):\n",
    "    return file_path.parent.name\n",
    "\n",
    "def get_target(topic_name):\n",
    "    topics = ['talk.politics.mideast', 'rec.autos', 'comp.sys.mac.hardware', 'alt.atheism', 'rec.sport.baseball', \n",
    "     'comp.os.ms-windows.misc', 'rec.sport.hockey', 'sci.crypt', 'sci.med', 'talk.politics.misc', \n",
    "     'rec.motorcycles', 'comp.windows.x', 'comp.graphics', 'comp.sys.ibm.pc.hardware', 'sci.electronics',\n",
    "     'talk.politics.guns', 'sci.space', 'soc.religion.christian', 'misc.forsale', 'talk.religion.misc']\n",
    "    return topics.index(topic_name)"
   ]
  },
  {
   "cell_type": "code",
   "execution_count": 7,
   "metadata": {},
   "outputs": [],
   "source": [
    "def plot_confusion_matrix(cm):\n",
    "    # plot the confusion matrix\n",
    "    plt.figure(figsize=(10,10))\n",
    "    plt.matshow(cm, fignum=1)\n",
    "    \n",
    "    # add labels for all targets\n",
    "    num_targets = cm.shape[0]\n",
    "    plt.xticks(list(range(num_targets+1)))\n",
    "    plt.yticks(list(range(num_targets+1)))"
   ]
  },
  {
   "cell_type": "markdown",
   "metadata": {},
   "source": [
    "## Q1"
   ]
  },
  {
   "cell_type": "code",
   "execution_count": null,
   "metadata": {},
   "outputs": [],
   "source": [
    "all_files = [pth for pth in Path(DATA_DIR).glob(\"**/*\") if pth.is_file() and not pth.name.startswith(\".\")]"
   ]
  },
  {
   "cell_type": "code",
   "execution_count": 8,
   "metadata": {},
   "outputs": [],
   "source": [
    "def get_all_files():\n",
    "    return [pth for pth in Path(DATA_DIR).glob(\"**/*\") if pth.is_file() and not pth.name.startswith(\".\")]"
   ]
  },
  {
   "cell_type": "code",
   "execution_count": 10,
   "metadata": {},
   "outputs": [],
   "source": [
    "def binary_baseline_data(file_list, num_words = 1000):\n",
    "    # Calculate word count in corpus\n",
    "    news_cnt = corpus_count_words(file_list)\n",
    "    \n",
    "    # Select the most common numWords\n",
    "    word_list = [word for (word, freq) in news_cnt.most_common(num_words)]\n",
    "    \n",
    "    # Create a binary encoding of dataset based on the selected features (X)\n",
    "    tokenizer = RegexpTokenizer(r'\\w+')\n",
    "    df_rows = []\n",
    "    for file_path in file_list:\n",
    "        with open(file_path, 'r', encoding='utf-8', errors='ignore') as file:\n",
    "            file_data = file.read()\n",
    "            file_data = clean_file_text(file_data)\n",
    "            file_words = tokenizer.tokenize(file_data)\n",
    "            df_rows.append([1 if word in file_words else 0 for word in word_list])      \n",
    "    X = pd.DataFrame(df_rows, columns = word_list)\n",
    "    \n",
    "    # Create a dataframe of targets (y)\n",
    "    y = [get_target(get_topic_name(file_path)) for file_path in file_list]\n",
    "    \n",
    "    return X, y"
   ]
  },
  {
   "cell_type": "code",
   "execution_count": 12,
   "metadata": {},
   "outputs": [
    {
     "name": "stdout",
     "output_type": "stream",
     "text": [
      "Train accuracy: 0.9124812459812817\n",
      "Test accuracy: 0.6978333333333333\n"
     ]
    }
   ],
   "source": [
    "# get the baseline data\n",
    "X, y = binary_baseline_data(all_files)\n",
    "\n",
    "# split to train and test set\n",
    "X_train, X_test, y_train, y_test = train_test_split(X, y, test_size=0.3, random_state=42)\n",
    "\n",
    "# train a logistic regression classifier\n",
    "clf = LogisticRegression(C=1.0).fit(X_train, y_train)\n",
    "\n",
    "# predict on train and test set\n",
    "y_train_predict = clf.predict(X_train)\n",
    "y_test_predict = clf.predict(X_test)\n",
    "\n",
    "# calculate train and test accuracy\n",
    "train_accuracy = accuracy_score(y_train, y_train_predict)\n",
    "test_accuracy = accuracy_score(y_test, y_test_predict)\n",
    "\n",
    "# report results\n",
    "print(\"Train accuracy: {}\".format(train_accuracy))\n",
    "print(\"Test accuracy: {}\".format(test_accuracy))"
   ]
  },
  {
   "cell_type": "markdown",
   "metadata": {},
   "source": [
    "### Q1 (a)\n",
    "\n",
    "[Write your answer here]"
   ]
  },
  {
   "cell_type": "markdown",
   "metadata": {},
   "source": [
    "Feature set - a set of 1000 of the most frequent words from the newsgroup documents. A good portion of these are stop words (ie. the, and, to) or are related to the header (and not relevant to the actual text) (ie. From, Subject, ID).\n",
    "\n",
    "\n",
    "Amount of data - there are 19997 documents, and a total of 232013 unique words. The binary_baseline_data function only uses the most common 1000 words.\n",
    "\n",
    "\n",
    "Hyperparameters - these include the train and test size (which here is 70% and 30% of the dataset respectively), and the number of features (number of most common words). There are also hyperparameters within the logistic regression classifier itself - for instance C (inverse of regularization strength, in which regularization adds a penalty to the loss function to prevent overfitting), the type of regularization (L1 vs L2), solver type (ie. newton-cg, liblinear etc.)."
   ]
  },
  {
   "cell_type": "markdown",
   "metadata": {},
   "source": [
    "### Q1 (b)\n",
    "\n",
    "Modify the following function:"
   ]
  },
  {
   "cell_type": "markdown",
   "metadata": {},
   "source": [
    "Note: I referenced https://chrisalbon.com/machine_learning/preprocessing_text/remove_stop_words/"
   ]
  },
  {
   "cell_type": "code",
   "execution_count": 13,
   "metadata": {},
   "outputs": [],
   "source": [
    "def clean_file_text_v2(text):\n",
    "    new_text = re.sub(\"Path:.*?\\n\", \"\", text)\n",
    "    new_text = re.sub(\"From:.*?\\n\", \"\", text)\n",
    "    new_text = re.sub(\"Newsgroups:.*?\\n\", \"\", text)\n",
    "    new_text = re.sub(\"Xref:.*?\\n\", \"\", new_text)\n",
    "    new_text = re.sub(\"Date:.*?\\n\", \"\", new_text)\n",
    "    new_text = re.sub(\"Organization:.*?\\n\", \"\", text)\n",
    "    new_text = re.sub(\"Lines:.*?\\n\", \"\", text)\n",
    "    new_text = re.sub(\"Message-ID:.*?\\n\", \"\", text)\n",
    "    new_text = re.sub(\"References:.*?\\n\", \"\", text)\n",
    "    new_text = re.sub(\"Reply-To:.*?\\n\", \"\", text)\n",
    "    new_text = re.sub(\"NNTP-Posting-Host:.*?\\n\", \"\", text)\n",
    "    new_text = re.sub(\"Followup-To:.*?\\n\", \"\", new_text)\n",
    "    return new_text"
   ]
  },
  {
   "cell_type": "code",
   "execution_count": 14,
   "metadata": {},
   "outputs": [],
   "source": [
    "def corpus_count_words_v2(file_list):\n",
    "    stop_words = set(stopwords.words('english'))\n",
    "    tokenizer = RegexpTokenizer(r'\\w+')\n",
    "    word_counter = Counter()\n",
    "    for file_path in file_list:\n",
    "        with open(file_path, 'r', encoding='utf-8', errors='ignore') as file:\n",
    "            file_data = file.read()\n",
    "            file_data = clean_file_text_v2(file_data)\n",
    "            file_words = tokenizer.tokenize(file_data)\n",
    "            new_file_words = [word for word in file_words if word not in stop_words]\n",
    "            word_counter.update(new_file_words)\n",
    "    return word_counter"
   ]
  },
  {
   "cell_type": "code",
   "execution_count": 15,
   "metadata": {},
   "outputs": [],
   "source": [
    "def binary_improved_data(file_list, num_words = 1000):\n",
    "    # Put your code here\n",
    "    ###\n",
    "    # Make sure you update the variable features and targets below\n",
    "    \n",
    "    # Calculate word count in corpus\n",
    "    news_cnt = corpus_count_words_v2(file_list)\n",
    "    \n",
    "    # Select the most common numWords​def binary_improved_data(file_list, num_words = 1000):\n",
    "    # Put your code here\n",
    "    # Make sure you update the variable features and targets below\n",
    "    \n",
    "    word_list = [word for (word, freq) in news_cnt.most_common(num_words)]\n",
    "    stop_words = set(stopwords.words('english'))\n",
    "    \n",
    "    # Create a binary encoding of dataset based on the selected features (X)\n",
    "    tokenizer = RegexpTokenizer(r'\\w+')\n",
    "    df_rows = []\n",
    "    for file_path in file_list:\n",
    "        with open(file_path, 'r', encoding='utf-8', errors='ignore') as file:\n",
    "            file_data = file.read()\n",
    "            file_data = clean_file_text_v2(file_data)\n",
    "            file_words = tokenizer.tokenize(file_data)\n",
    "            file_words = [word for word in file_words if word not in stop_words]\n",
    "            df_rows.append([1 if word in file_words else 0 for word in word_list])      \n",
    "    \n",
    "    X = pd.DataFrame(df_rows, columns = word_list)\n",
    "    y = [get_target(get_topic_name(file_path)) for file_path in file_list]\n",
    "    \n",
    "    # validate return types\n",
    "    assert isinstance(X, pd.DataFrame) and isinstance(y, list), \"return types\"\n",
    "    \n",
    "    return X, y"
   ]
  },
  {
   "cell_type": "markdown",
   "metadata": {},
   "source": [
    "### Q1 (c)\n",
    "\n",
    "Modify the following partial code to calculate the train and test accuracy and answer the question in the markdown cell below"
   ]
  },
  {
   "cell_type": "code",
   "execution_count": 26,
   "metadata": {},
   "outputs": [
    {
     "name": "stdout",
     "output_type": "stream",
     "text": [
      "Train accuracy: 0.9796384939629921\n",
      "Test accuracy: 0.9513333333333334\n"
     ]
    }
   ],
   "source": [
    "# get the baseline data\n",
    "X, y = binary_improved_data(all_files)\n",
    "\n",
    "# Write your code here:\n",
    "# You need to split the data and train a logistic regression classifier.\n",
    "# Then, you need to calculate the variables train_accuracy and test_accuracy for the new classifier\n",
    "\n",
    "# split to train and test set\n",
    "X_train, X_test, y_train, y_test = train_test_split(X, y, test_size=0.3, random_state=42)\n",
    "\n",
    "# train a logistic regression classifier\n",
    "clf = LogisticRegression(C=1.0).fit(X_train, y_train)\n",
    "\n",
    "# predict on train and test set\n",
    "y_train_predict = clf.predict(X_train)\n",
    "y_test_predict = clf.predict(X_test)\n",
    "\n",
    "# calculate train and test accuracy\n",
    "train_accuracy = accuracy_score(y_train, y_train_predict)\n",
    "test_accuracy = accuracy_score(y_test, y_test_predict)\n",
    "\n",
    "\n",
    "# report results\n",
    "print(\"Train accuracy: {}\".format(train_accuracy))\n",
    "print(\"Test accuracy: {}\".format(test_accuracy))"
   ]
  },
  {
   "cell_type": "markdown",
   "metadata": {},
   "source": [
    "[Write your answer here]"
   ]
  },
  {
   "cell_type": "markdown",
   "metadata": {},
   "source": [
    "Both test and train accuracy increased, with test accuracy increasing significantly from 70% to 95%."
   ]
  },
  {
   "cell_type": "markdown",
   "metadata": {},
   "source": [
    "### Q1 (d)\n",
    "\n",
    "Modify the partial code below"
   ]
  },
  {
   "cell_type": "code",
   "execution_count": 16,
   "metadata": {},
   "outputs": [],
   "source": [
    "def multiple_train_test_results(X, y, num_tests):\n",
    "    train_results = []\n",
    "    test_results = []\n",
    "    \n",
    "    for i in range(num_tests):\n",
    "        state = random.randint(1,1000)\n",
    "        X_train, X_test, y_train, y_test = train_test_split(X, y, test_size=0.3, random_state=state)\n",
    "        clf = LogisticRegression(C=1.0).fit(X_train, y_train)\n",
    "        y_train_predict = clf.predict(X_train)\n",
    "        y_test_predict = clf.predict(X_test)\n",
    "        train_accuracy = accuracy_score(y_train, y_train_predict)\n",
    "        test_accuracy = accuracy_score(y_test, y_test_predict)\n",
    "        train_results.append(train_accuracy)\n",
    "        test_results.append(test_accuracy)\n",
    "    \n",
    "    return train_results, test_results"
   ]
  },
  {
   "cell_type": "code",
   "execution_count": 17,
   "metadata": {},
   "outputs": [],
   "source": [
    "def random_mean_ci(X, y, num_tests):\n",
    "    # train_results is a list of train accuracy results for the differrent random splits of the dataset\n",
    "    train_results = []\n",
    "    \n",
    "    # test_results is a list of test accuracy results for the differrent random splits of the dataset\n",
    "    test_results = []\n",
    "    \n",
    "    # Write your code here\n",
    "    \n",
    "    train_results, test_results = multiple_train_test_results(X, y, num_tests)\n",
    "    \n",
    "    # calculate the train mean and the 95% confidence interval for the list of results\n",
    "    train_mean = np.mean(train_results)\n",
    "    train_ci_low, train_ci_high = stats.t.interval(0.95, len(train_results)-1, loc=train_mean, scale=stats.sem(train_results))\n",
    "    \n",
    "    # calculate the test mean and the 95% confidence interval for the list of results\n",
    "    test_mean = np.mean(test_results)\n",
    "    test_ci_low, test_ci_high = stats.t.interval(0.95, len(test_results)-1, loc=test_mean, scale=stats.sem(test_results))\n",
    "    \n",
    "    # validate return types\n",
    "    assert isinstance(train_mean, float) and isinstance(train_ci_low, float) and isinstance(train_ci_high, float), \"return types\"\n",
    "    assert isinstance(test_mean, float) and isinstance(test_ci_low, float) and isinstance(test_ci_high, float), \"return types\"\n",
    "    \n",
    "    return train_mean, train_ci_low, train_ci_high, test_mean, test_ci_low, test_ci_high"
   ]
  },
  {
   "cell_type": "markdown",
   "metadata": {},
   "source": [
    "### Q1 (e)\n",
    "\n",
    "Use the following code to calculate the mean accuracy and 95% confidence interval over 10 random splits"
   ]
  },
  {
   "cell_type": "code",
   "execution_count": 29,
   "metadata": {},
   "outputs": [
    {
     "name": "stdout",
     "output_type": "stream",
     "text": [
      "Train mean accuracy over 10 random splits: 0.9813745802672\n",
      "Train confidence interval over 10 random splits: [0.9809415518203358, 0.9818076087140643]\n",
      "Test mean accuracy over 10 random splits: 0.9486333333333332\n",
      "Test confidence interval over 10 random splits: [0.9474749360752267, 0.9497917305914397]\n"
     ]
    }
   ],
   "source": [
    "X, y = binary_improved_data(all_files)\n",
    "train_mean10, train_low10, train_high10, test_mean10, test_low10, test_high10 = random_mean_ci(X, y, num_tests = 10)\n",
    "print(\"Train mean accuracy over 10 random splits: {}\".format(train_mean10))\n",
    "print(\"Train confidence interval over 10 random splits: [{}, {}]\".format(train_low10, train_high10))\n",
    "print(\"Test mean accuracy over 10 random splits: {}\".format(test_mean10))\n",
    "print(\"Test confidence interval over 10 random splits: [{}, {}]\".format(test_low10, test_high10))"
   ]
  },
  {
   "cell_type": "markdown",
   "metadata": {},
   "source": [
    "[ Write your answer here ]"
   ]
  },
  {
   "cell_type": "markdown",
   "metadata": {},
   "source": [
    "The average and 95% confidence intervals tell me that the accuracy is consistent at the average over different splits. This is useful (and more useful than a single trial) because it proves that the model is not overfitting to one set of data."
   ]
  },
  {
   "cell_type": "markdown",
   "metadata": {},
   "source": [
    "### Q1 (f)\n",
    "\n",
    "Modify the partial code below"
   ]
  },
  {
   "cell_type": "code",
   "execution_count": 18,
   "metadata": {},
   "outputs": [],
   "source": [
    "def random_cm(X, y, num_tests):\n",
    "    # cm_list is a list of confusion matrices for the different random splits of the dataset\n",
    "    cm_list = []\n",
    "    \n",
    "    # Write your code here\n",
    "    for i in range(num_tests):\n",
    "        state = random.randint(1,1000)\n",
    "        X_train, X_test, y_train, y_test = train_test_split(X, y, test_size=0.3, random_state=state)\n",
    "        clf = LogisticRegression(C=1.0).fit(X_train, y_train)\n",
    "        y_train_predict = clf.predict(X_train)\n",
    "        y_test_predict = clf.predict(X_test)\n",
    "        \n",
    "        cm = confusion_matrix(y_test, y_test_predict)\n",
    "        cm_list.append(cm)\n",
    "        \n",
    "    \n",
    "    # sum the confusion matrices and return the combined confusion matrix\n",
    "    combined_cm = pd.Panel(cm_list).sum(axis=0)\n",
    "    \n",
    "    # validate return type\n",
    "    assert isinstance(combined_cm, pd.DataFrame), \"return type\"\n",
    "    \n",
    "    return combined_cm"
   ]
  },
  {
   "cell_type": "markdown",
   "metadata": {},
   "source": [
    "### Q1 (g)\n",
    "\n",
    "Use the following code to produce a confusion matrix for 10 random splits"
   ]
  },
  {
   "cell_type": "code",
   "execution_count": 28,
   "metadata": {},
   "outputs": [
    {
     "data": {
      "image/png": "[encoded data removed]",
      "text/plain": [
       "<Figure size 720x720 with 1 Axes>"
      ]
     },
     "metadata": {
      "needs_background": "light"
     },
     "output_type": "display_data"
    }
   ],
   "source": [
    "cm10 = random_cm(X, y, num_tests = 10)\n",
    "plot_confusion_matrix(cm10)"
   ]
  },
  {
   "cell_type": "code",
   "execution_count": null,
   "metadata": {},
   "outputs": [],
   "source": [
    "cm10"
   ]
  },
  {
   "cell_type": "markdown",
   "metadata": {},
   "source": [
    "[ Write your answer here ]"
   ]
  },
  {
   "cell_type": "markdown",
   "metadata": {},
   "source": [
    "Classes 0, 3, 9 and 19 are more easily confused. This is because classes 9 and 19 are both miscellaneous and aren't attributable to a single topic, making them harder to classify. Classes 0 and 3 when confused, are confused with classes 9 and 19."
   ]
  },
  {
   "cell_type": "markdown",
   "metadata": {},
   "source": [
    "## Q2"
   ]
  },
  {
   "cell_type": "markdown",
   "metadata": {},
   "source": [
    "### Q2 (a)\n",
    "\n",
    "Modify the partial code below"
   ]
  },
  {
   "cell_type": "code",
   "execution_count": 21,
   "metadata": {},
   "outputs": [],
   "source": [
    "def feature_num(X, y):\n",
    "    # result_list is a list of tuples (num_features, train_accuracy, test_accuracy)\n",
    "    # where numFeatures is the number of words used as features\n",
    "    result_list = []\n",
    "    \n",
    "    X_train, X_test, y_train, y_test = train_test_split(X, y, test_size=0.3, random_state=42)\n",
    "    \n",
    "    for p in [0.1, 0.2, 0.4, 0.6, 0.8, 1.0]:\n",
    "        subset_size = int(p*X.shape[1])\n",
    "        X_train_subset = X_train.iloc[:, 0:subset_size]\n",
    "        X_test_subset = X_test.iloc[:, 0:subset_size]\n",
    "        # Write your code here to calculate train_accuracy and test_accuracy for the current subset of features\n",
    "        # ......\n",
    "\n",
    "        clf = LogisticRegression(C=1.0).fit(X_train_subset, y_train)\n",
    "        y_train_predict = clf.predict(X_train_subset)\n",
    "        y_test_predict = clf.predict(X_test_subset)\n",
    "        train_accuracy = accuracy_score(y_train, y_train_predict)\n",
    "        test_accuracy = accuracy_score(y_test, y_test_predict)\n",
    "\n",
    "        # add to result_list\n",
    "        result_list.append((p, train_accuracy, test_accuracy))\n",
    "        \n",
    "    # Make a dataframe of the results\n",
    "    result_df = pd.DataFrame(result_list, columns=[\"num_features\", \"train_accuracy\", \"test_accuracy\"])\n",
    "    \n",
    "    # validate return type\n",
    "    assert isinstance(result_df, pd.DataFrame), \"return type\"\n",
    "    \n",
    "    return result_df"
   ]
  },
  {
   "cell_type": "markdown",
   "metadata": {},
   "source": [
    "### Q2 (b)\n",
    "\n",
    "Use the following code to plot the train and test accuracy for the different feature sets sizes"
   ]
  },
  {
   "cell_type": "code",
   "execution_count": 30,
   "metadata": {},
   "outputs": [
    {
     "data": {
      "text/plain": [
       "<matplotlib.axes._subplots.AxesSubplot at 0x2c31f436ba8>"
      ]
     },
     "execution_count": 30,
     "metadata": {},
     "output_type": "execute_result"
    },
    {
     "data": {
      "image/png": "[encoded data removed]",
      "text/plain": [
       "<Figure size 432x288 with 1 Axes>"
      ]
     },
     "metadata": {
      "needs_background": "light"
     },
     "output_type": "display_data"
    }
   ],
   "source": [
    "feature_num_df = feature_num(X, y)\n",
    "feature_num_df.plot(x=\"num_features\", y=[\"train_accuracy\", \"test_accuracy\"])"
   ]
  },
  {
   "cell_type": "markdown",
   "metadata": {},
   "source": [
    "[ Write your answer here ]"
   ]
  },
  {
   "cell_type": "markdown",
   "metadata": {},
   "source": [
    "The model's accuracy increases significantly as the number of features increases, but at 0.6 (600 features) the accuracy stops improving."
   ]
  },
  {
   "cell_type": "markdown",
   "metadata": {},
   "source": [
    "## Q3"
   ]
  },
  {
   "cell_type": "markdown",
   "metadata": {},
   "source": [
    "### Q3 (a)\n",
    "\n",
    "Modify the partial code below"
   ]
  },
  {
   "cell_type": "code",
   "execution_count": 19,
   "metadata": {},
   "outputs": [],
   "source": [
    "def hyperparameter(X, y):\n",
    "    # result_list is a list of tuples (num_features, train_accuracy, test_accuracy)\n",
    "    # where numFeatures is the number of words used as features\n",
    "    result_list = []\n",
    "    \n",
    "    X_train, X_test, y_train, y_test = train_test_split(X, y, test_size=0.3, random_state=42)\n",
    "    \n",
    "    for param in [0.001, 0.01, 0.1, 1, 10, 100, 1000]:\n",
    "        # Write your code here to calculate train_accuracy and test_accuracy for the current parameter value\n",
    "        # ......\n",
    "        clf = LogisticRegression(C=param).fit(X_train, y_train)\n",
    "        y_train_predict = clf.predict(X_train)\n",
    "        y_test_predict = clf.predict(X_test)\n",
    "        \n",
    "        train_accuracy = accuracy_score(y_train, y_train_predict)\n",
    "        test_accuracy = accuracy_score(y_test, y_test_predict)\n",
    "        \n",
    "        # add to result_list\n",
    "        result_list.append((param, train_accuracy, test_accuracy))\n",
    "        \n",
    "    # Make a dataframe of the results\n",
    "    result_df = pd.DataFrame(result_list, columns=[\"param\", \"train_accuracy\", \"test_accuracy\"])\n",
    "    \n",
    "    # validate return type\n",
    "    assert isinstance(result_df, pd.DataFrame), \"return type\"\n",
    "    \n",
    "    return result_df"
   ]
  },
  {
   "cell_type": "markdown",
   "metadata": {},
   "source": [
    "### Q3 (b)\n",
    "\n",
    "Use the following code to plot the train and test accuracy for the different the parameters"
   ]
  },
  {
   "cell_type": "code",
   "execution_count": 31,
   "metadata": {},
   "outputs": [
    {
     "data": {
      "text/plain": [
       "<matplotlib.axes._subplots.AxesSubplot at 0x2c31f27d630>"
      ]
     },
     "execution_count": 31,
     "metadata": {},
     "output_type": "execute_result"
    },
    {
     "data": {
      "image/png": "[encoded data removed]",
      "text/plain": [
       "<Figure size 432x288 with 1 Axes>"
      ]
     },
     "metadata": {
      "needs_background": "light"
     },
     "output_type": "display_data"
    }
   ],
   "source": [
    "param_df = hyperparameter(X, y)\n",
    "param_df.plot(x=\"param\", y=[\"train_accuracy\", \"test_accuracy\"], logx=True)"
   ]
  },
  {
   "cell_type": "markdown",
   "metadata": {},
   "source": [
    "[ Write your answer here ]"
   ]
  },
  {
   "cell_type": "markdown",
   "metadata": {},
   "source": [
    "As C increases, the test accuracy increases and then worsens after C reaches 10^-2. (High C leads to more overfitting (C increases --> lambda decreases --> more overfitting))"
   ]
  },
  {
   "cell_type": "markdown",
   "metadata": {},
   "source": [
    "## Q4"
   ]
  },
  {
   "cell_type": "markdown",
   "metadata": {},
   "source": [
    "### Q4 (a)\n",
    "\n",
    "Modify the partial code below"
   ]
  },
  {
   "cell_type": "code",
   "execution_count": 20,
   "metadata": {},
   "outputs": [],
   "source": [
    "def compute_tf(file_list):\n",
    "    tokenizer = RegexpTokenizer(r'\\w+')\n",
    "    stop_words = set(stopwords.words('english'))\n",
    "    tfDict = []\n",
    "    news_cnt = corpus_count_words_v2(file_list)\n",
    "    word_list = [word for (word, freq) in news_cnt.most_common(1000)]\n",
    "    \n",
    "    for file_path in file_list:\n",
    "        with open(file_path, 'r', encoding='utf-8', errors='ignore') as file:\n",
    "            file_data = file.read()\n",
    "            file_data = clean_file_text_v2(file_data)\n",
    "            file_words = tokenizer.tokenize(file_data)\n",
    "            file_words = [word for word in file_words if word not in stop_words]\n",
    "            count = dict(Counter(file_words))\n",
    "            tfDict.append([count[word] if word in count else 0 for word in word_list])\n",
    "    X = pd.DataFrame(tfDict, columns = word_list)\n",
    "    \n",
    "    return X"
   ]
  },
  {
   "cell_type": "code",
   "execution_count": 22,
   "metadata": {},
   "outputs": [],
   "source": [
    "def compute_idf(file_list):\n",
    "    X, y = binary_improved_data(file_list)\n",
    "    return pd.DataFrame([pd.Series(X.sum())])"
   ]
  },
  {
   "cell_type": "code",
   "execution_count": 23,
   "metadata": {},
   "outputs": [],
   "source": [
    "def tf_improved_data(file_list, num_words = 1000):\n",
    "    # Put your code here\n",
    "    # Make sure you update the variable features and targets below\n",
    "    \n",
    "    # Calculate word count in corpus\n",
    "    news_cnt = corpus_count_words_v2(file_list)\n",
    "    \n",
    "    # Select the most common numWords​def binary_improved_data(file_list, num_words = 1000):\n",
    "    # Put your code here\n",
    "    # Make sure you update the variable features and targets below\n",
    "\n",
    "    word_list = [word for (word, freq) in news_cnt.most_common(num_words)]\n",
    "    stop_words = set(stopwords.words('english'))\n",
    "                     \n",
    "    tf = compute_tf(file_list)\n",
    "    idf = compute_idf(file_list)\n",
    "    N = len(file_list)\n",
    "    \n",
    "    # Create a binary encoding of dataset based on the selected features (X)\n",
    "    tokenizer = RegexpTokenizer(r'\\w+')\n",
    "    df_rows = []\n",
    "    for filenum, file_path in enumerate(file_list):\n",
    "        with open(file_path, 'r', encoding='utf-8', errors='ignore') as file:\n",
    "            file_data = file.read()\n",
    "            file_data = clean_file_text_v2(file_data)\n",
    "            file_words = tokenizer.tokenize(file_data)\n",
    "            file_words = [word for word in file_words if word not in stop_words]\n",
    "            df_rows.append([math.log10(1+tf[word][filenum])*math.log10(N/idf[word]) if word in file_words else 0 for word in word_list])      \n",
    "    \n",
    "    X = pd.DataFrame(df_rows, columns = word_list)\n",
    "    y = [get_target(get_topic_name(file_path)) for file_path in file_list]\n",
    "    \n",
    "    # validate return types\n",
    "    assert isinstance(X, pd.DataFrame) and isinstance(y, list), \"return types\"\n",
    "    \n",
    "    return X, y"
   ]
  },
  {
   "cell_type": "markdown",
   "metadata": {},
   "source": [
    "### Q4 (b)\n",
    "\n",
    "Use the following code to calculate the mean accuracy and 95% confidence interval over multiple random splits"
   ]
  },
  {
   "cell_type": "code",
   "execution_count": 27,
   "metadata": {},
   "outputs": [
    {
     "name": "stdout",
     "output_type": "stream",
     "text": [
      "Train mean accuracy over 10 random splits: 0.978652568407516\n",
      "Train confidence interval over 10 random splits: [0.9780640013348604, 0.9792411354801717]\n",
      "Test mean accuracy over 10 random splits: 0.9492333333333333\n",
      "Test confidence interval over 10 random splits: [0.9478415669577199, 0.9506250997089466]\n"
     ]
    }
   ],
   "source": [
    "X_tf, y_tf = tf_improved_data(all_files)\n",
    "train_mean10, train_low10, train_high10, test_mean10, test_low10, test_high10 = random_mean_ci(X_tf, y_tf, num_tests = 10)\n",
    "print(\"Train mean accuracy over 10 random splits: {}\".format(train_mean10))\n",
    "print(\"Train confidence interval over 10 random splits: [{}, {}]\".format(train_low10, train_high10))\n",
    "print(\"Test mean accuracy over 10 random splits: {}\".format(test_mean10))\n",
    "print(\"Test confidence interval over 10 random splits: [{}, {}]\".format(test_low10, test_high10))"
   ]
  },
  {
   "cell_type": "markdown",
   "metadata": {},
   "source": [
    "[ Write your answer here ]"
   ]
  },
  {
   "cell_type": "markdown",
   "metadata": {},
   "source": [
    "The train mean accuracy and confidence intervals of tf-idf is still lower than that of binary encoding by 0.3%, however the test mean accuracy and confidence intervals is higher than that of binary encoding by about 0.2%. Overall the results are very close, as the mean accuracy and confidence intervals of both binary encoding and tf-idf encoding are quite high. However, tf-idf is marginally better, likely because you can train your classifier to put emphasis on words that are more 'important', rather than equally weight all words."
   ]
  },
  {
   "cell_type": "markdown",
   "metadata": {},
   "source": [
    "## Q5"
   ]
  },
  {
   "cell_type": "markdown",
   "metadata": {},
   "source": [
    "### Q5 (a)\n",
    "\n",
    "Modify the partial code below"
   ]
  },
  {
   "cell_type": "code",
   "execution_count": 24,
   "metadata": {},
   "outputs": [],
   "source": [
    "def multiple_train_test_results_nb(X, y, num_tests):\n",
    "    train_results = []\n",
    "    test_results = []\n",
    "    \n",
    "    for i in range(num_tests):\n",
    "        state = random.randint(1,1000)\n",
    "        X_train, X_test, y_train, y_test = train_test_split(X, y, test_size=0.3, random_state=state)\n",
    "        clf = BernoulliNB().fit(X_train, y_train)\n",
    "        y_train_predict = clf.predict(X_train)\n",
    "        y_test_predict = clf.predict(X_test)\n",
    "        train_accuracy = accuracy_score(y_train, y_train_predict)\n",
    "        test_accuracy = accuracy_score(y_test, y_test_predict)\n",
    "        train_results.append(train_accuracy)\n",
    "        test_results.append(test_accuracy)\n",
    "    \n",
    "    return train_results, test_results"
   ]
  },
  {
   "cell_type": "code",
   "execution_count": 25,
   "metadata": {},
   "outputs": [],
   "source": [
    "def nb_random_mean_ci(X, y, num_tests):\n",
    "    # train_results is a list of train accuracy results for the differrent random splits of the dataset\n",
    "    train_results = []\n",
    "    \n",
    "    # test_results is a list of test accuracy results for the differrent random splits of the dataset\n",
    "    test_results = []\n",
    "    \n",
    "    # Write your code here\n",
    "    train_results, test_results = multiple_train_test_results(X_tf, y_tf, num_tests)\n",
    "    \n",
    "    # calculate the train mean and the 95% confidence interval for the list of results\n",
    "    train_mean = np.mean(train_results)\n",
    "    train_ci_low, train_ci_high = stats.t.interval(0.95, len(train_results)-1, loc=train_mean, scale=stats.sem(train_results))\n",
    "    \n",
    "    # calculate the test mean and the 95% confidence interval for the list of results\n",
    "    test_mean = np.mean(test_results)\n",
    "    test_ci_low, test_ci_high = stats.t.interval(0.95, len(test_results)-1, loc=test_mean, scale=stats.sem(test_results))\n",
    "    \n",
    "    # validate return types\n",
    "    assert isinstance(train_mean, float) and isinstance(train_ci_low, float) and isinstance(train_ci_high, float), \"return types\"\n",
    "    assert isinstance(test_mean, float) and isinstance(test_ci_low, float) and isinstance(test_ci_high, float), \"return types\"\n",
    "    \n",
    "    return train_mean, train_ci_low, train_ci_high, test_mean, test_ci_low, test_ci_high"
   ]
  },
  {
   "cell_type": "markdown",
   "metadata": {},
   "source": [
    "### Q5 (b)\n",
    "\n",
    "Use the following code to calculate the mean accuracy and 95% confidence interval over multiple random splits"
   ]
  },
  {
   "cell_type": "code",
   "execution_count": 32,
   "metadata": {},
   "outputs": [
    {
     "name": "stdout",
     "output_type": "stream",
     "text": [
      "Train mean accuracy over 10 random splits: 0.9785739801386011\n",
      "Train confidence interval over 10 random splits: [0.9779188373555338, 0.9792291229216684]\n",
      "Test mean accuracy over 10 random splits: 0.9490666666666666\n",
      "Test confidence interval over 10 random splits: [0.9471880821853905, 0.9509452511479427]\n"
     ]
    }
   ],
   "source": [
    "X, y = binary_improved_data(all_files)\n",
    "train_mean10, train_low10, train_high10, test_mean10, test_low10, test_high10 = nb_random_mean_ci(X, y, num_tests = 10)\n",
    "print(\"Train mean accuracy over 10 random splits: {}\".format(train_mean10))\n",
    "print(\"Train confidence interval over 10 random splits: [{}, {}]\".format(train_low10, train_high10))\n",
    "print(\"Test mean accuracy over 10 random splits: {}\".format(test_mean10))\n",
    "print(\"Test confidence interval over 10 random splits: [{}, {}]\".format(test_low10, test_high10))"
   ]
  },
  {
   "cell_type": "markdown",
   "metadata": {},
   "source": [
    "[ Write your answer here ]"
   ]
  },
  {
   "cell_type": "markdown",
   "metadata": {},
   "source": [
    "Using the Bernoulli Naive Bayes classifier, we achieve similar results to that of Logistic Regression classifier. I think this is because although logistic regression can be a better classifier, there is a large amount of a data, and this allows both classifiers to perform well. Additionally, the classifier just needs to predict classes, not accurately predict probabilities, which is where logistic regression classifiers perform significantly better."
   ]
  },
  {
   "cell_type": "markdown",
   "metadata": {},
   "source": [
    "## Q6"
   ]
  },
  {
   "cell_type": "code",
   "execution_count": null,
   "metadata": {},
   "outputs": [],
   "source": [
    "def is_graduate_student():\n",
    "    # ** Graduate students: change the return value to True **\n",
    "    return False"
   ]
  },
  {
   "cell_type": "markdown",
   "metadata": {},
   "source": [
    "### Q6 (a)\n",
    "\n",
    "Modify the partial code below"
   ]
  },
  {
   "cell_type": "code",
   "execution_count": null,
   "metadata": {},
   "outputs": [],
   "source": [
    "def binary_med_data(file_list, num_words = 1000):\n",
    "    # Put your code here\n",
    "    # Make sure you update the variable features and targets below\n",
    "    \n",
    "    X = None\n",
    "    y = None\n",
    "    \n",
    "    # validate return types\n",
    "    assert isinstance(X, pd.DataFrame) and isinstance(y, list), \"return types\"\n",
    "    \n",
    "    return X, y"
   ]
  },
  {
   "cell_type": "markdown",
   "metadata": {},
   "source": [
    "### Q6 (b)\n",
    "\n",
    "Use the following code to calculate the mean accuracy and 95% confidence interval over multiple random splits"
   ]
  },
  {
   "cell_type": "code",
   "execution_count": null,
   "metadata": {},
   "outputs": [],
   "source": [
    "X, y = binary_med_data(all_files)\n",
    "train_mean10, train_low10, train_high10, test_mean10, test_low10, test_high10 = random_mean_ci(X, y, num_tests = 10)\n",
    "print(\"Train mean accuracy over 10 random splits: {}\".format(train_mean10))\n",
    "print(\"Train confidence interval over 10 random splits: [{}, {}]\".format(train_low10, train_high10))\n",
    "print(\"Test mean accuracy over 10 random splits: {}\".format(test_mean10))\n",
    "print(\"Test confidence interval over 10 random splits: [{}, {}]\".format(test_low10, test_high10))"
   ]
  },
  {
   "cell_type": "markdown",
   "metadata": {},
   "source": [
    "[ Write your answer here ]"
   ]
  },
  {
   "cell_type": "code",
   "execution_count": null,
   "metadata": {},
   "outputs": [],
   "source": [
    "\n"
   ]
  }
 ],
 "metadata": {
  "kernelspec": {
   "display_name": "Python [conda env:mie451-assignment-ml]",
   "language": "python",
   "name": "conda-env-mie451-assignment-ml-py"
  },
  "language_info": {
   "codemirror_mode": {
    "name": "ipython",
    "version": 3
   },
   "file_extension": ".py",
   "mimetype": "text/x-python",
   "name": "python",
   "nbconvert_exporter": "python",
   "pygments_lexer": "ipython3",
   "version": "3.6.6"
  }
 },
 "nbformat": 4,
 "nbformat_minor": 2
}
